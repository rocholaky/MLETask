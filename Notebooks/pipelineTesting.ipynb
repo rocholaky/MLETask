{
 "cells": [
  {
   "cell_type": "code",
   "execution_count": 7,
   "metadata": {},
   "outputs": [],
   "source": [
    "\n",
    "import pandas as pd\n",
    "import os\n",
    "\n",
    "### SKLEARN ###\n",
    "import sklearn\n",
    "from sklearn.pipeline import Pipeline\n",
    "from sklearn.preprocessing import FunctionTransformer, OneHotEncoder\n",
    "from sklearn.compose import ColumnTransformer\n",
    "from sklearn.impute import SimpleImputer\n",
    "from sklearn.base import BaseEstimator, TransformerMixin\n",
    "\n",
    "from sklearn.model_selection import train_test_split\n",
    "\n",
    "### METRICS  ######\n",
    "from sklearn.metrics import accuracy_score, recall_score, precision_score\n",
    "### MODELS: ######\n",
    "from sklearn.svm import LinearSVC\n",
    "from sklearn.ensemble import RandomForestClassifier"
   ]
  },
  {
   "cell_type": "code",
   "execution_count": 8,
   "metadata": {},
   "outputs": [
    {
     "data": {
      "text/html": [
       "<div>\n",
       "<style scoped>\n",
       "    .dataframe tbody tr th:only-of-type {\n",
       "        vertical-align: middle;\n",
       "    }\n",
       "\n",
       "    .dataframe tbody tr th {\n",
       "        vertical-align: top;\n",
       "    }\n",
       "\n",
       "    .dataframe thead th {\n",
       "        text-align: right;\n",
       "    }\n",
       "</style>\n",
       "<table border=\"1\" class=\"dataframe\">\n",
       "  <thead>\n",
       "    <tr style=\"text-align: right;\">\n",
       "      <th></th>\n",
       "      <th>PassengerId</th>\n",
       "      <th>Survived</th>\n",
       "      <th>Pclass</th>\n",
       "      <th>Name</th>\n",
       "      <th>Sex</th>\n",
       "      <th>Age</th>\n",
       "      <th>SibSp</th>\n",
       "      <th>Parch</th>\n",
       "      <th>Ticket</th>\n",
       "      <th>Fare</th>\n",
       "      <th>Cabin</th>\n",
       "      <th>Embarked</th>\n",
       "    </tr>\n",
       "  </thead>\n",
       "  <tbody>\n",
       "    <tr>\n",
       "      <th>0</th>\n",
       "      <td>1</td>\n",
       "      <td>0</td>\n",
       "      <td>3</td>\n",
       "      <td>Braund, Mr. Owen Harris</td>\n",
       "      <td>male</td>\n",
       "      <td>22.0</td>\n",
       "      <td>1</td>\n",
       "      <td>0</td>\n",
       "      <td>A/5 21171</td>\n",
       "      <td>7.2500</td>\n",
       "      <td>NaN</td>\n",
       "      <td>S</td>\n",
       "    </tr>\n",
       "    <tr>\n",
       "      <th>1</th>\n",
       "      <td>2</td>\n",
       "      <td>1</td>\n",
       "      <td>1</td>\n",
       "      <td>Cumings, Mrs. John Bradley (Florence Briggs Th...</td>\n",
       "      <td>female</td>\n",
       "      <td>38.0</td>\n",
       "      <td>1</td>\n",
       "      <td>0</td>\n",
       "      <td>PC 17599</td>\n",
       "      <td>71.2833</td>\n",
       "      <td>C85</td>\n",
       "      <td>C</td>\n",
       "    </tr>\n",
       "    <tr>\n",
       "      <th>2</th>\n",
       "      <td>3</td>\n",
       "      <td>1</td>\n",
       "      <td>3</td>\n",
       "      <td>Heikkinen, Miss. Laina</td>\n",
       "      <td>female</td>\n",
       "      <td>26.0</td>\n",
       "      <td>0</td>\n",
       "      <td>0</td>\n",
       "      <td>STON/O2. 3101282</td>\n",
       "      <td>7.9250</td>\n",
       "      <td>NaN</td>\n",
       "      <td>S</td>\n",
       "    </tr>\n",
       "    <tr>\n",
       "      <th>3</th>\n",
       "      <td>4</td>\n",
       "      <td>1</td>\n",
       "      <td>1</td>\n",
       "      <td>Futrelle, Mrs. Jacques Heath (Lily May Peel)</td>\n",
       "      <td>female</td>\n",
       "      <td>35.0</td>\n",
       "      <td>1</td>\n",
       "      <td>0</td>\n",
       "      <td>113803</td>\n",
       "      <td>53.1000</td>\n",
       "      <td>C123</td>\n",
       "      <td>S</td>\n",
       "    </tr>\n",
       "    <tr>\n",
       "      <th>4</th>\n",
       "      <td>5</td>\n",
       "      <td>0</td>\n",
       "      <td>3</td>\n",
       "      <td>Allen, Mr. William Henry</td>\n",
       "      <td>male</td>\n",
       "      <td>35.0</td>\n",
       "      <td>0</td>\n",
       "      <td>0</td>\n",
       "      <td>373450</td>\n",
       "      <td>8.0500</td>\n",
       "      <td>NaN</td>\n",
       "      <td>S</td>\n",
       "    </tr>\n",
       "  </tbody>\n",
       "</table>\n",
       "</div>"
      ],
      "text/plain": [
       "   PassengerId  Survived  Pclass  \\\n",
       "0            1         0       3   \n",
       "1            2         1       1   \n",
       "2            3         1       3   \n",
       "3            4         1       1   \n",
       "4            5         0       3   \n",
       "\n",
       "                                                Name     Sex   Age  SibSp  \\\n",
       "0                            Braund, Mr. Owen Harris    male  22.0      1   \n",
       "1  Cumings, Mrs. John Bradley (Florence Briggs Th...  female  38.0      1   \n",
       "2                             Heikkinen, Miss. Laina  female  26.0      0   \n",
       "3       Futrelle, Mrs. Jacques Heath (Lily May Peel)  female  35.0      1   \n",
       "4                           Allen, Mr. William Henry    male  35.0      0   \n",
       "\n",
       "   Parch            Ticket     Fare Cabin Embarked  \n",
       "0      0         A/5 21171   7.2500   NaN        S  \n",
       "1      0          PC 17599  71.2833   C85        C  \n",
       "2      0  STON/O2. 3101282   7.9250   NaN        S  \n",
       "3      0            113803  53.1000  C123        S  \n",
       "4      0            373450   8.0500   NaN        S  "
      ]
     },
     "execution_count": 8,
     "metadata": {},
     "output_type": "execute_result"
    }
   ],
   "source": [
    "dataset_path = os.path.join(\"..\", \"Data\", \"titanic.csv\")\n",
    "titanic = pd.read_csv(dataset_path)\n",
    "titanic.head()"
   ]
  },
  {
   "cell_type": "code",
   "execution_count": 9,
   "metadata": {},
   "outputs": [],
   "source": [
    "# Defining the transformations: \n",
    "age_imputer = SimpleImputer(strategy=\"median\")\n",
    "embarked_imputer = SimpleImputer(strategy=\"most_frequent\")\n",
    "one_hot_encoder = OneHotEncoder(drop=\"first\") # we do this to avoid redundant features\n",
    "pass_through = FunctionTransformer()\n",
    "inputer= ColumnTransformer(\n",
    "    transformers=[\n",
    "        (\"age_imputer\", age_imputer, [\"Age\"]), # input age\n",
    "        (\"embarked_imputer\", embarked_imputer, [\"Embarked\"])# input embarked\n",
    "    ],\n",
    "    remainder=\"passthrough\", # let the other columns passthrough\n",
    "    verbose_feature_names_out=False\n",
    ").set_output(transform=\"pandas\")\n",
    "\n",
    "preprocessor_transformer = ColumnTransformer(\n",
    "    transformers=[\n",
    "        (\"one hot\", one_hot_encoder, [\"Embarked\", \"Sex\", \"Pclass\"]),\n",
    "        (\"selector\", pass_through, [\"Age\", \"SibSp\", \"Parch\", \"Fare\"])\n",
    "    ],\n",
    "    remainder=\"drop\"\n",
    ")\n",
    "\n",
    "\n",
    "preprocessor_pipeline = Pipeline(steps =[\n",
    "    (\"input_variables\", inputer), \n",
    "    (\"preprocessing\", preprocessor_transformer), \n",
    "\n",
    "])\n"
   ]
  },
  {
   "cell_type": "code",
   "execution_count": 10,
   "metadata": {},
   "outputs": [],
   "source": [
    "X_all = titanic.drop(columns=[\"Survived\"])\n",
    "y_all = titanic[\"Survived\"]\n",
    "\n",
    "#X_all.set_index('PassengerId', inplace=True)\n",
    "\n",
    "X_all, X_oot, y_all, y_oot = train_test_split(X_all, y_all, test_size=0.1, random_state=2)"
   ]
  },
  {
   "cell_type": "code",
   "execution_count": 11,
   "metadata": {},
   "outputs": [],
   "source": [
    "X_train,X_test, y_train, y_test = train_test_split(X_all, y_all,\n",
    "                                                    test_size=0.2, random_state=23)"
   ]
  },
  {
   "cell_type": "code",
   "execution_count": 12,
   "metadata": {},
   "outputs": [],
   "source": [
    "X_oot.merge(y_oot, right_index=True, left_index=True).to_csv(\"../Data/oot.csv\", index=False)\n",
    "X_train.merge(y_train, right_index=True, left_index=True).to_csv(\"../Data/train.csv\", index=False)\n",
    "X_test.merge(y_test, right_index=True, left_index=True).to_csv(\"../Data/test.csv\", index=False)"
   ]
  },
  {
   "cell_type": "code",
   "execution_count": 13,
   "metadata": {},
   "outputs": [],
   "source": [
    "class PreFixedPipeline(TransformerMixin, BaseEstimator): \n",
    "    def __init__(self, pipeline): \n",
    "        super()\n",
    "        self.pipeline = pipeline\n",
    "    \n",
    "    def fit(self, X, y=None): \n",
    "        # in this case do nothing as the pipe \n",
    "        # is already fitted\n",
    "        return self\n",
    "\n",
    "    def transform(self, X): \n",
    "        return self.pipeline.transform(X)"
   ]
  },
  {
   "cell_type": "code",
   "execution_count": 14,
   "metadata": {},
   "outputs": [],
   "source": [
    "preprocessor_pipeline = preprocessor_pipeline.fit(X_train)\n",
    "\n",
    "X_train_transformed = preprocessor_pipeline.transform(X_train)\n",
    "X_test_transformed = preprocessor_pipeline.transform(X_test)"
   ]
  },
  {
   "cell_type": "code",
   "execution_count": 15,
   "metadata": {},
   "outputs": [
    {
     "data": {
      "text/plain": [
       "array([[ 0.    ,  1.    ,  1.    , ...,  1.    ,  0.    , 66.6   ],\n",
       "       [ 0.    ,  0.    ,  1.    , ...,  0.    ,  0.    , 12.875 ],\n",
       "       [ 0.    ,  1.    ,  0.    , ...,  0.    ,  0.    ,  7.775 ],\n",
       "       ...,\n",
       "       [ 0.    ,  1.    ,  1.    , ...,  0.    ,  0.    ,  7.8958],\n",
       "       [ 0.    ,  1.    ,  1.    , ...,  0.    ,  0.    ,  0.    ],\n",
       "       [ 1.    ,  0.    ,  1.    , ...,  4.    ,  1.    , 29.125 ]])"
      ]
     },
     "execution_count": 15,
     "metadata": {},
     "output_type": "execute_result"
    }
   ],
   "source": [
    "X_train_transformed"
   ]
  },
  {
   "cell_type": "code",
   "execution_count": 16,
   "metadata": {},
   "outputs": [],
   "source": [
    "prefitted_pipe = PreFixedPipeline(preprocessor_pipeline)"
   ]
  },
  {
   "cell_type": "code",
   "execution_count": 17,
   "metadata": {},
   "outputs": [],
   "source": [
    "linsvc_pipe = Pipeline([(\"preprocessing\", prefitted_pipe), \n",
    "                      (\"svc\", LinearSVC(dual=\"auto\", max_iter=2000))])\n",
    "rf_pipe = Pipeline([(\"preprocessing\", prefitted_pipe), \n",
    "                      (\"RF\", RandomForestClassifier())])"
   ]
  },
  {
   "cell_type": "code",
   "execution_count": 18,
   "metadata": {},
   "outputs": [
    {
     "name": "stdout",
     "output_type": "stream",
     "text": [
      "0.8198757763975155\n"
     ]
    }
   ],
   "source": [
    "linsvc_pipe.fit(X_train, y=y_train)\n",
    "pred_linsvc = linsvc_pipe.predict(X_test)\n",
    "acc_linsvc = accuracy_score(y_test, pred_linsvc)\n",
    "\n",
    "print(acc_linsvc)"
   ]
  },
  {
   "cell_type": "code",
   "execution_count": 19,
   "metadata": {},
   "outputs": [
    {
     "name": "stdout",
     "output_type": "stream",
     "text": [
      "0.8385093167701864\n",
      "0.7794117647058824\n",
      "0.828125\n"
     ]
    }
   ],
   "source": [
    "rf_pipe = rf_pipe.fit(X_train, y=y_train)\n",
    "pred_rf = rf_pipe.predict_proba(X_test)[:, 1]>0.35\n",
    "acc_rf = accuracy_score(y_test, pred_rf)\n",
    "recall_rf = recall_score(y_test, pred_rf)\n",
    "precision_rf = precision_score(y_test, pred_rf)\n",
    "print(acc_rf)\n",
    "print(recall_rf)\n",
    "print(precision_rf)"
   ]
  },
  {
   "cell_type": "code",
   "execution_count": 20,
   "metadata": {},
   "outputs": [],
   "source": [
    "from sklearn.metrics import confusion_matrix, classification_report, precision_recall_curve,recall_score\n",
    "import matplotlib.pyplot as plt\n",
    "def plot_precision_recall(model, X_train, y_train, cut_off=None):\n",
    "  # Predict on train data\n",
    "  y_scores=model.predict_proba(X_train)\n",
    "\n",
    "  precisions, recalls, thresholds = precision_recall_curve(y_train, y_scores[:,1])\n",
    "\n",
    "  # Plot values of precisions, recalls, and thresholds\n",
    "  plt.figure(figsize=(10,7))\n",
    "  plt.plot(thresholds, precisions[:-1], 'b--', label='precision')\n",
    "  plt.plot(thresholds, recalls[:-1], 'g--', label = 'recall')\n",
    "  if cut_off:\n",
    "    plt.axvline(cut_off, color=\"r\", linestyle=\":\")\n",
    "  plt.xlabel('Threshold')\n",
    "  plt.legend(loc='upper left')\n",
    "  plt.title(\"Recall vs Precision curve\")\n",
    "  plt.xticks(np.arange(0, 1, 0.1))\n",
    "  plt.ylim([0,1])\n",
    "  plt.show()"
   ]
  },
  {
   "cell_type": "code",
   "execution_count": 21,
   "metadata": {},
   "outputs": [
    {
     "data": {
      "image/png": "[encoded data removed]",
      "text/plain": [
       "<Figure size 1000x700 with 1 Axes>"
      ]
     },
     "metadata": {},
     "output_type": "display_data"
    }
   ],
   "source": [
    "import numpy as np\n",
    "plot_precision_recall(rf_pipe, X_train, y_train, cut_off=0.35)"
   ]
  },
  {
   "cell_type": "code",
   "execution_count": 22,
   "metadata": {},
   "outputs": [
    {
     "ename": "SyntaxError",
     "evalue": "invalid syntax (345281583.py, line 6)",
     "output_type": "error",
     "traceback": [
      "\u001b[0;36m  Cell \u001b[0;32mIn[22], line 6\u001b[0;36m\u001b[0m\n\u001b[0;31m    cpu_usage = process.cpu_percent(interval=)\u001b[0m\n\u001b[0m                                             ^\u001b[0m\n\u001b[0;31mSyntaxError\u001b[0m\u001b[0;31m:\u001b[0m invalid syntax\n"
     ]
    }
   ],
   "source": [
    "import psutil\n",
    "import time\n",
    "# Function to monitor resource usage\n",
    "def monitor_resources():\n",
    "    process = psutil.Process()\n",
    "    cpu_usage = process.cpu_percent(interval=)\n",
    "    memory_usage = process.memory_info().rss / (1024 * 1024)  # Convert to MB\n",
    "    return cpu_usage, memory_usage\n",
    "\n",
    "# Initial resource usage\n",
    "print(\"Initial resources:\", monitor_resources())\n",
    "\n",
    "# Fit the pipeline and monitor resources\n",
    "start_time = time.time()\n",
    "rf_pipe.fit(X_train, y_train)\n",
    "end_time = time.time()\n",
    "\n",
    "# Resource usage after pipeline execution\n",
    "cpu_usage, memory_usage = monitor_resources()\n",
    "print(\"Resources after execution: CPU usage: {:.2f}%, Memory usage: {:.2f} MB\".format(cpu_usage, memory_usage))\n",
    "print(\"Time taken: {:.2f} seconds\".format(end_time - start_time))\n"
   ]
  },
  {
   "cell_type": "code",
   "execution_count": 23,
   "metadata": {},
   "outputs": [
    {
     "name": "stdout",
     "output_type": "stream",
     "text": [
      "Initial resources: (1.0, 239.98828125)\n",
      "19.2 13.7\n"
     ]
    }
   ],
   "source": [
    "import psutil\n",
    "import time\n",
    "# Function to monitor resource usage\n",
    "def monitor_resources():\n",
    "    process = psutil.Process()\n",
    "    cpu_usage = process.cpu_percent(interval=1)\n",
    "    memory_usage = process.memory_info().rss / (1024 * 1024)  # Convert to MB\n",
    "    return cpu_usage, memory_usage\n",
    "\n",
    "# Initial resource usage\n",
    "print(\"Initial resources:\", monitor_resources())\n",
    "cpu_usage_initial = psutil.cpu_percent(interval=1)\n",
    "# Fit the pipeline and monitor resources\n",
    "start_time = time.time()\n",
    "rf_pipe.fit(X_train, y_train)\n",
    "end_time = time.time()\n",
    "\n",
    "# Resource usage after pipeline execution\n",
    "cpu_usage_end = psutil.cpu_percent(interval=1)\n",
    "print(cpu_usage_initial, cpu_usage_end)\n"
   ]
  },
  {
   "cell_type": "code",
   "execution_count": 32,
   "metadata": {},
   "outputs": [
    {
     "data": {
      "text/plain": [
       "Index(['PassengerId', 'Pclass', 'Name', 'Sex', 'Age', 'SibSp', 'Parch',\n",
       "       'Ticket', 'Fare', 'Cabin', 'Embarked'],\n",
       "      dtype='object')"
      ]
     },
     "execution_count": 32,
     "metadata": {},
     "output_type": "execute_result"
    }
   ],
   "source": [
    "X_train.columns\n"
   ]
  },
  {
   "cell_type": "code",
   "execution_count": 33,
   "metadata": {},
   "outputs": [
    {
     "data": {
      "text/plain": [
       "array([0.01362606, 0.02506754, 0.23805779, 0.00388222, 0.06301262,\n",
       "       0.22967247, 0.03467143, 0.03435136, 0.35765852])"
      ]
     },
     "execution_count": 33,
     "metadata": {},
     "output_type": "execute_result"
    }
   ],
   "source": [
    "rf_pipe[1][0].feature_importances_"
   ]
  },
  {
   "cell_type": "code",
   "execution_count": 35,
   "metadata": {},
   "outputs": [
    {
     "data": {
      "text/plain": [
       "array(['Age', 'Embarked', 'PassengerId', 'Pclass', 'Name', 'Sex', 'SibSp',\n",
       "       'Parch', 'Ticket', 'Fare', 'Cabin'], dtype=object)"
      ]
     },
     "execution_count": 35,
     "metadata": {},
     "output_type": "execute_result"
    }
   ],
   "source": [
    "preprocessor_pipeline[0].get_feature_names_out()"
   ]
  },
  {
   "cell_type": "code",
   "execution_count": null,
   "metadata": {},
   "outputs": [],
   "source": []
  }
 ],
 "metadata": {
  "kernelspec": {
   "display_name": "base",
   "language": "python",
   "name": "python3"
  },
  "language_info": {
   "codemirror_mode": {
    "name": "ipython",
    "version": 3
   },
   "file_extension": ".py",
   "mimetype": "text/x-python",
   "name": "python",
   "nbconvert_exporter": "python",
   "pygments_lexer": "ipython3",
   "version": "3.8.0"
  }
 },
 "nbformat": 4,
 "nbformat_minor": 2
}
